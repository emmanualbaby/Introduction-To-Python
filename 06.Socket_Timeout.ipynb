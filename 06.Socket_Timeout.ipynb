{
  "nbformat": 4,
  "nbformat_minor": 0,
  "metadata": {
    "colab": {
      "name": "08.Socket_Timeout.ipynb",
      "provenance": [],
      "collapsed_sections": []
    },
    "kernelspec": {
      "name": "python3",
      "display_name": "Python 3"
    }
  },
  "cells": [
    {
      "cell_type": "code",
      "metadata": {
        "id": "6PSnAnhOEFYF",
        "outputId": "e5624622-05d3-4f0f-8b01-a89d52bd3ad8",
        "colab": {
          "base_uri": "https://localhost:8080/",
          "height": 52
        }
      },
      "source": [
        "import socket\n",
        "\n",
        "def test_socket_timeout():\n",
        "    s = socket.socket(socket.AF_INET, socket.SOCK_STREAM)\n",
        "    print(\"Default socket timeout: %s\" %s.gettimeout())\n",
        "    s.settimeout(100)\n",
        "    print(\"Current socket timeout: %s\" %s.gettimeout())   \n",
        "    \n",
        "if __name__ == '__main__':\n",
        "    test_socket_timeout()"
      ],
      "execution_count": 2,
      "outputs": [
        {
          "output_type": "stream",
          "text": [
            "Default socket timeout: None\n",
            "Current socket timeout: 100.0\n"
          ],
          "name": "stdout"
        }
      ]
    },
    {
      "cell_type": "code",
      "metadata": {
        "id": "MWjzqVjNEG7N"
      },
      "source": [
        ""
      ],
      "execution_count": null,
      "outputs": []
    }
  ]
}
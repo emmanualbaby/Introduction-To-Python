{
 "cells": [
  {
   "cell_type": "code",
   "execution_count": 4,
   "metadata": {},
   "outputs": [
    {
     "ename": "ModuleNotFoundError",
     "evalue": "No module named 'instaloader'",
     "output_type": "error",
     "traceback": [
      "\u001b[1;31m---------------------------------------------------------------------------\u001b[0m",
      "\u001b[1;31mModuleNotFoundError\u001b[0m                       Traceback (most recent call last)",
      "Cell \u001b[1;32mIn[4], line 1\u001b[0m\n\u001b[1;32m----> 1\u001b[0m \u001b[38;5;28;01mimport\u001b[39;00m \u001b[38;5;21;01minstaloader\u001b[39;00m\n\u001b[0;32m      3\u001b[0m L \u001b[38;5;241m=\u001b[39m instaloader\u001b[38;5;241m.\u001b[39mInstaloader()\n\u001b[0;32m      5\u001b[0m posts \u001b[38;5;241m=\u001b[39m instaloader\u001b[38;5;241m.\u001b[39mHashtag\u001b[38;5;241m.\u001b[39mfrom_name(L\u001b[38;5;241m.\u001b[39mcontext, \u001b[38;5;124m'\u001b[39m\u001b[38;5;124murbanphotography\u001b[39m\u001b[38;5;124m'\u001b[39m)\u001b[38;5;241m.\u001b[39mget_posts()\n",
      "\u001b[1;31mModuleNotFoundError\u001b[0m: No module named 'instaloader'"
     ]
    }
   ],
   "source": [
    "import instaloader\n",
    "\n",
    "L = instaloader.Instaloader()\n",
    "\n",
    "posts = instaloader.Hashtag.from_name(L.context, 'emmanualikku').get_posts()\n",
    "\n",
    "users = set()\n",
    "\n",
    "for post in posts:\n",
    "    if not post.owner_profile in users:\n",
    "        L.download_post(post, '#emmanualikku')\n",
    "        users.add(post.owner_profile)\n",
    "    else:\n",
    "        print(\"{} from {} skipped.\".format(post, post.owner_profile))"
   ]
  },
  {
   "cell_type": "code",
   "execution_count": null,
   "metadata": {},
   "outputs": [],
   "source": []
  }
 ],
 "metadata": {
  "kernelspec": {
   "display_name": "Python 3",
   "language": "python",
   "name": "python3"
  },
  "language_info": {
   "codemirror_mode": {
    "name": "ipython",
    "version": 3
   },
   "file_extension": ".py",
   "mimetype": "text/x-python",
   "name": "python",
   "nbconvert_exporter": "python",
   "pygments_lexer": "ipython3",
   "version": "3.11.9"
  }
 },
 "nbformat": 4,
 "nbformat_minor": 4
}

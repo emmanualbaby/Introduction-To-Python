{
  "nbformat": 4,
  "nbformat_minor": 0,
  "metadata": {
    "colab": {
      "name": "08_python_taxable.ipynb",
      "provenance": []
    },
    "kernelspec": {
      "name": "python3",
      "display_name": "Python 3"
    },
    "language_info": {
      "name": "python"
    }
  },
  "cells": [
    {
      "cell_type": "code",
      "execution_count": 1,
      "metadata": {
        "id": "Qcy3sltDx3bS"
      },
      "outputs": [],
      "source": [
        "x=20"
      ]
    },
    {
      "cell_type": "code",
      "source": [
        "if x>10 :\n",
        "  print(\"x is greater than 10\")"
      ],
      "metadata": {
        "colab": {
          "base_uri": "https://localhost:8080/"
        },
        "id": "bDluFvWT0UnW",
        "outputId": "be357696-f4b4-4c38-c002-87760657efda"
      },
      "execution_count": 2,
      "outputs": [
        {
          "output_type": "stream",
          "name": "stdout",
          "text": [
            "x is greater than 10\n"
          ]
        }
      ]
    },
    {
      "cell_type": "code",
      "source": [
        "x=20\n",
        "if x>10 :\n",
        "  print(\"x>10\")\n",
        "if x<10 :\n",
        "  print(\"x<10\")\n",
        "if x==10 :\n",
        "  print(\"x==10\")"
      ],
      "metadata": {
        "colab": {
          "base_uri": "https://localhost:8080/"
        },
        "id": "qtTr3CjP092U",
        "outputId": "76ac14dc-6f47-498f-a4d9-932dc1b9fc5f"
      },
      "execution_count": 3,
      "outputs": [
        {
          "output_type": "stream",
          "name": "stdout",
          "text": [
            "x>10\n"
          ]
        }
      ]
    },
    {
      "cell_type": "code",
      "source": [
        "x=int(input('enter a number'))\n",
        "if x>100 :\n",
        "  print(\"pass\")\n",
        "if x<100 :\n",
        "  print(\"fail\")\n",
        "if x==100 :\n",
        "  print(\"pass\")"
      ],
      "metadata": {
        "colab": {
          "base_uri": "https://localhost:8080/"
        },
        "id": "1dHgwCqn3l3M",
        "outputId": "c238c6fd-f711-4625-cdc7-20a496a50570"
      },
      "execution_count": 4,
      "outputs": [
        {
          "output_type": "stream",
          "name": "stdout",
          "text": [
            "enter a number100\n",
            "pass\n"
          ]
        }
      ]
    },
    {
      "cell_type": "code",
      "source": [
        "x=int(input(\"enter the salary\"))\n",
        "if x>250000 :\n",
        "  print(\"taxable\")\n",
        "  print(x*10/100)\n",
        "if x<250000 :\n",
        "  print(\"no tax\")"
      ],
      "metadata": {
        "colab": {
          "base_uri": "https://localhost:8080/"
        },
        "id": "66-IozEv94Iv",
        "outputId": "bacf8c6c-d500-4ada-f6b6-634aef84929f"
      },
      "execution_count": 5,
      "outputs": [
        {
          "output_type": "stream",
          "name": "stdout",
          "text": [
            "enter the salary260000\n",
            "taxable\n",
            "26000.0\n"
          ]
        }
      ]
    }
  ]
}
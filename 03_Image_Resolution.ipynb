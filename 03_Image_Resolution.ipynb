{
  "nbformat": 4,
  "nbformat_minor": 0,
  "metadata": {
    "colab": {
      "name": "03.Image_Resolution.ipynb",
      "provenance": [],
      "collapsed_sections": []
    },
    "kernelspec": {
      "name": "python3",
      "display_name": "Python 3"
    }
  },
  "cells": [
    {
      "cell_type": "code",
      "metadata": {
        "id": "AN8B9gG3V_o3",
        "outputId": "5ad0a98d-abf3-4fd5-d06f-0a60ec1d6316",
        "colab": {
          "base_uri": "https://localhost:8080/",
          "height": 35
        }
      },
      "source": [
        "def jpeg_res(filename):\n",
        "   \"\"\"\"This function prints the resolution of the jpeg image file passed into it\"\"\"\n",
        "\n",
        "   # open image for reading in binary mode\n",
        "   with open(filename,'rb') as img_file:\n",
        "\n",
        "       # height of image (in 2 bytes) is at 164th position\n",
        "       img_file.seek(163)\n",
        "\n",
        "       # read the 2 bytes\n",
        "       a = img_file.read(2)\n",
        "\n",
        "       # calculate height\n",
        "       height = (a[0] << 8) + a[1]\n",
        "\n",
        "       # next 2 bytes is width\n",
        "       a = img_file.read(2)\n",
        "\n",
        "       # calculate width\n",
        "       width = (a[0] << 8) + a[1]\n",
        "\n",
        "   print(\"The resolution of the image is\",width,\"x\",height)\n",
        "\n",
        "jpeg_res(\"img.png\")\n"
      ],
      "execution_count": 2,
      "outputs": [
        {
          "output_type": "stream",
          "text": [
            "The resolution of the image is 32628 x 31871\n"
          ],
          "name": "stdout"
        }
      ]
    },
    {
      "cell_type": "code",
      "metadata": {
        "id": "xmgAHARMWoVT"
      },
      "source": [
        ""
      ],
      "execution_count": null,
      "outputs": []
    }
  ]
}